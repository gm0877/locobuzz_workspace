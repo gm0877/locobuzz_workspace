{
 "cells": [
  {
   "cell_type": "code",
   "execution_count": 73,
   "id": "5385d1d4",
   "metadata": {},
   "outputs": [],
   "source": [
    "import random"
   ]
  },
  {
   "cell_type": "code",
   "execution_count": 69,
   "id": "7d828705",
   "metadata": {},
   "outputs": [],
   "source": [
    "def employe():\n",
    "    e0='present'\n",
    "    e1='absent'\n",
    "    employee=random.choice(('present','absent'))\n",
    "    if e0==employee:\n",
    "        print('EMPLOYEE IS PRESENT')\n",
    "    elif e1==employee:\n",
    "        print('EMPLOYEE IS ABSENT')"
   ]
  },
  {
   "cell_type": "code",
   "execution_count": 72,
   "id": "b78d9184",
   "metadata": {},
   "outputs": [
    {
     "name": "stdout",
     "output_type": "stream",
     "text": [
      "EMPLOYEE IS PRESENT\n"
     ]
    }
   ],
   "source": [
    "employe()"
   ]
  },
  {
   "cell_type": "code",
   "execution_count": 52,
   "id": "946d1dc4",
   "metadata": {},
   "outputs": [],
   "source": [
    "def check_employee():\n",
    "    e0='present'\n",
    "    e1='absent'\n",
    "    full_day_hr=8\n",
    "    wage_per_hr=20\n",
    "    part_time=8\n",
    "    sal=0\n",
    "    e2=random.choice(('present','absent'))\n",
    "    e3=random.choice(('absent','present'))\n",
    "    hours=100\n",
    "    days=20\n",
    "    hours_count=0\n",
    "    days_count=0\n",
    " \n",
    "    if e0==e2:\n",
    "        print('1st half of the day Employee is Present')\n",
    "        sal+=(full_day_hr/2)*wage_per_hr\n",
    "    else:\n",
    "        print('1st half of the day Employee is Absent')\n",
    "        sal+=0\n",
    "    if e0==e3:\n",
    "        sal+=full_day_hr/2*wage_per_hr\n",
    "        print('2nd half of the day Employee is Present')\n",
    "    else:\n",
    "        sal+=0\n",
    "        print('2nd half of the day Employee is Absent')\n",
    "    print('do u want to add part time i.e is 8hrs per day if yes press y if not plz enter no ')\n",
    "    n1=input()\n",
    "    if n1.startswith('y'):\n",
    "        sal+=part_time*wage_per_hr\n",
    "        print(f'Now the total salary is {sal}rs perday')\n",
    "    elif n1.endswith('o'):\n",
    "        print(f'Now the total salary is {sal}rs perday')\n",
    "    sal_per_month=days*wage_per_hr*full_day_hr\n",
    "    print(f'salary permonth is {sal_per_month}')"
   ]
  },
  {
   "cell_type": "code",
   "execution_count": 53,
   "id": "a3a03b0f",
   "metadata": {},
   "outputs": [
    {
     "name": "stdout",
     "output_type": "stream",
     "text": [
      "1st half of the day Employee is Present\n",
      "2nd half of the day Employee is Present\n",
      "do u want to add part time i.e is 8hrs per day if yes press y if not plz enter no \n",
      "y\n",
      "Now the total salary is 320.0rs perday\n",
      "salary permonth is 3200\n"
     ]
    }
   ],
   "source": [
    "check_employee()"
   ]
  },
  {
   "cell_type": "code",
   "execution_count": 54,
   "id": "8c4b1a87",
   "metadata": {},
   "outputs": [
    {
     "data": {
      "text/plain": [
       "20"
      ]
     },
     "execution_count": 54,
     "metadata": {},
     "output_type": "execute_result"
    }
   ],
   "source": [
    "hours=100\n",
    "days=20\n",
    "random.choice((hours,days))"
   ]
  },
  {
   "cell_type": "code",
   "execution_count": 55,
   "id": "09178fd3",
   "metadata": {},
   "outputs": [
    {
     "name": "stdout",
     "output_type": "stream",
     "text": [
      "*****"
     ]
    }
   ],
   "source": [
    "for i in range(5):\n",
    "        print('*',end='')"
   ]
  },
  {
   "cell_type": "code",
   "execution_count": 88,
   "id": "b8cb68ab",
   "metadata": {},
   "outputs": [],
   "source": [
    "def flip_coin_uc1():\n",
    "    coin=random.choice(('Heads','Tails'))\n",
    "    return coin\n",
    "def uc2():\n",
    "    dic={'Heads':0,'Tails':0}\n",
    "    n=int(input('Enter the input How many times the coin must be tossed: '))\n",
    "    for i in range(n):\n",
    "        s=flip_coin_uc1()\n",
    "        if 'Heads'==s:\n",
    "            dic['Heads']+=1\n",
    "        else:\n",
    "            dic['Tails']+=1\n",
    "    \n",
    "    print(f\"The Heads Percentage is {dic['Heads']*100/n}\")\n",
    "    print(f\"The Tails Percentage is {dic['Tails']*100/n}\")\n",
    "\n",
    "def coin_flip():\n",
    "    result = random.choice(('HeadsHeads', 'TailsTails','HeadsTails','TailsHeads'))\n",
    "    return result\n",
    "def uc3():\n",
    "    dic={'HeadsHeads':0,'TailsTails':0,'HeadsTails':0,'TailsHeads':0}\n",
    "    n=int(input('Enter the input How many times the coin must be tossed: '))\n",
    "    for i in range(n):\n",
    "        s=coin_flip()\n",
    "        if 'HeadsHeads'==s:\n",
    "            dic['HeadsHeads']+=1\n",
    "        elif 'TailsTails'==s:\n",
    "            dic['TailsTails']+=1\n",
    "        elif 'HeadsTails'==s:\n",
    "            dic['HeadsTails']+=1\n",
    "        else:\n",
    "            dic['TailsHeads']+=1\n",
    "    \n",
    "    print(f\"The Heads Percentage is {(dic['HeadsHeads']*100)/n}\")\n",
    "    print(f\"The Tails Percentage is {(dic['TailsTails']*100)/n}\")\n",
    "    print(f\"The Tails Percentage is {(dic['HeadsTails']*100)/n}\")\n",
    "    print(f\"The Tails Percentage is {(dic['TailsHeads']*100)/n}\")\n",
    "\n",
    "    "
   ]
  },
  {
   "cell_type": "code",
   "execution_count": 57,
   "id": "387264fe",
   "metadata": {},
   "outputs": [
    {
     "data": {
      "text/plain": [
       "'Tails'"
      ]
     },
     "execution_count": 57,
     "metadata": {},
     "output_type": "execute_result"
    }
   ],
   "source": [
    "flip_coin()"
   ]
  },
  {
   "cell_type": "code",
   "execution_count": 58,
   "id": "edc621f0",
   "metadata": {},
   "outputs": [
    {
     "name": "stdout",
     "output_type": "stream",
     "text": [
      "Enter the input How many times the coin must be tossed: 4\n",
      "The Heads Percentage is 25.0\n",
      "The Tails Percentage is 75.0\n"
     ]
    }
   ],
   "source": [
    "uc2()"
   ]
  },
  {
   "cell_type": "code",
   "execution_count": 112,
   "id": "1e8656e2",
   "metadata": {},
   "outputs": [
    {
     "name": "stdout",
     "output_type": "stream",
     "text": [
      "HeadsTails\n"
     ]
    }
   ],
   "source": [
    "def coin_flip():\n",
    "    result = random.choice(('HeadsHeads', 'TailsTails','HeadsTails','TailsHeads'))\n",
    "    return result\n",
    "def uc3():\n",
    "    dic={'HeadsHeads':0,'TailsTails':0,'HeadsTails':0,'TailsHeads':0}\n",
    "    n=int(input('Enter the input How many times the coin must be tossed: '))\n",
    "    for i in range(n):\n",
    "        s=coin_flip()\n",
    "        if 'HeadsHeads'==s:\n",
    "            dic['HeadsHeads']+=1\n",
    "        elif 'TailsTails'==s:\n",
    "            dic['TailsTails']+=1\n",
    "        elif 'HeadsTails'==s:\n",
    "            dic['HeadsTails']+=1\n",
    "        else:\n",
    "            dic['TailsHeads']+=1\n",
    "    \n",
    "    print(f\"The Heads Percentage is {(dic['HeadsHeads']*100)/n}\")\n",
    "    print(f\"The Tails Percentage is {(dic['TailsTails']*100)/n}\")\n",
    "    print(f\"The Tails Percentage is {(dic['HeadsTails']*100)/n}\")\n",
    "    print(f\"The Tails Percentage is {(dic['TailsHeads']*100)/n}\")\n"
   ]
  },
  {
   "cell_type": "code",
   "execution_count": 115,
   "id": "d24c048c",
   "metadata": {},
   "outputs": [
    {
     "name": "stdout",
     "output_type": "stream",
     "text": [
      "Enter the input How many times the coin must be tossed: 4\n",
      "The Heads Percentage is 50.0\n",
      "The Tails Percentage is 0.0\n",
      "The Tails Percentage is 25.0\n",
      "The Tails Percentage is 25.0\n"
     ]
    }
   ],
   "source": [
    "uc3()"
   ]
  }
 ],
 "metadata": {
  "kernelspec": {
   "display_name": "Python 3 (ipykernel)",
   "language": "python",
   "name": "python3"
  },
  "language_info": {
   "codemirror_mode": {
    "name": "ipython",
    "version": 3
   },
   "file_extension": ".py",
   "mimetype": "text/x-python",
   "name": "python",
   "nbconvert_exporter": "python",
   "pygments_lexer": "ipython3",
   "version": "3.9.7"
  }
 },
 "nbformat": 4,
 "nbformat_minor": 5
}
